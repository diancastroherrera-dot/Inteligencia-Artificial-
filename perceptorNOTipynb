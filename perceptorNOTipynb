{
  "nbformat": 4,
  "nbformat_minor": 0,
  "metadata": {
    "colab": {
      "provenance": [],
      "authorship_tag": "ABX9TyP9Q0U1b6pS1v53wJcNUkv2",
      "include_colab_link": true
    },
    "kernelspec": {
      "name": "python3",
      "display_name": "Python 3"
    },
    "language_info": {
      "name": "python"
    }
  },
  "cells": [
    {
      "cell_type": "markdown",
      "metadata": {
        "id": "view-in-github",
        "colab_type": "text"
      },
      "source": [
        "<a href=\"https://colab.research.google.com/github/diancastroherrera-dot/Inteligencia-Artificial-/blob/main/perceptorNOTipynb\" target=\"_parent\"><img src=\"https://colab.research.google.com/assets/colab-badge.svg\" alt=\"Open In Colab\"/></a>"
      ]
    },
    {
      "cell_type": "code",
      "execution_count": 1,
      "metadata": {
        "id": "hfFV_5t0u91E"
      },
      "outputs": [],
      "source": [
        "import numpy as np\n",
        "# Entradas para el perceptron\n",
        "X = np.array([[0],\n",
        "              [1]])\n",
        "# Salidas\n",
        "Y = np.array([1, 0])\n",
        "# Pesos para las entradas\n",
        "weights = np.array([0.0])\n",
        "# Tasa de aprendizaje\n",
        "lr = 0.1\n",
        "# Epocas\n",
        "epochs = 20\n",
        "# Sesgo\n",
        "bias =  1.0"
      ]
    },
    {
      "cell_type": "code",
      "source": [
        "class Perceptron:\n",
        "    def __init__(self, lr, epochs, weights, bias):\n",
        "        \"\"\"\n",
        "            Constructor del perceptron:\n",
        "            Guarda las variables\n",
        "            lr -> tasa de aprendizaje\n",
        "            epochs -> numero de epocas\n",
        "            weights -> vector de pesos iniciales\n",
        "            bias -> sesgo inicial\n",
        "        \"\"\"\n",
        "        self.lr = lr\n",
        "        self.epochs = epochs\n",
        "        self.weights = weights\n",
        "        self.bias = bias\n",
        "\n",
        "    def fit(self, X, Y):\n",
        "        \"\"\"\n",
        "            Realiza el entrenamiento del Perceptron.\n",
        "        \"\"\"\n",
        "        # Recorre el dataset la cantidad indicada en epocas\n",
        "        for epoch in range(self.epochs):\n",
        "            for j in range(X.shape[0]):\n",
        "                # Calcula la salida del perceptrón para la entrada actual\n",
        "                y_pred = self.activation_function(np.dot(self.weights, X[j]) + self.bias)\n",
        "                # Calcula el error\n",
        "                loss = Y[j] - y_pred\n",
        "                # Actualiza los pesos y el sesgo\n",
        "                self.weights += self.lr * loss * X[j]\n",
        "                self.bias += self.lr * loss\n",
        "            print(f\"Epoch {epoch}, Optimized Weights are {self.weights}, and bias is {self.bias}\")\n",
        "        # Imprime los valores finales de los parámetros aprendidos\n",
        "        print(f\"Optimized Weights are {self.weights} and bias is {self.bias}\")\n",
        "\n",
        "    def activation_function(self, activation):\n",
        "        \"\"\"\n",
        "            Función de activacion escalon\n",
        "        \"\"\"\n",
        "        return 1 if activation >= 0 else 0\n",
        "\n",
        "    def prediction(self, X):\n",
        "        \"\"\"\n",
        "            Calcula la salida del Perceptron para cada fila de entradas X.\n",
        "        \"\"\"\n",
        "        # Calcula producto punto + bias para todas las entradas\n",
        "        sum_ = np.dot(X, self.weights) + self.bias\n",
        "        # Mensaje input y su predicción\n",
        "        for i, s in enumerate(sum_):\n",
        "            print(f\"Input: {X[i]}, Predictions: {self.activation_function(sum_[i])}\")\n",
        "        # Devuelve un array con todas las predicciones\n",
        "        return np.array([self.activation_function(s) for s in sum_])"
      ],
      "metadata": {
        "id": "m_PW7LlsvCtM"
      },
      "execution_count": 3,
      "outputs": []
    },
    {
      "cell_type": "code",
      "source": [
        "# Crear una instancia del perceptrón\n",
        "p = Perceptron(lr=lr, epochs=epochs, weights=weights, bias=bias)\n",
        "# Entrenar el modelo\n",
        "p.fit(X, Y)\n",
        "# Usar el modelo entrenado para realizar predicciones\n",
        "predictions = p.prediction(X)"
      ],
      "metadata": {
        "colab": {
          "base_uri": "https://localhost:8080/"
        },
        "id": "byC3h6gVvKFT",
        "outputId": "9ca43f47-a8b3-4771-a6ad-ba1ff9859370"
      },
      "execution_count": 4,
      "outputs": [
        {
          "output_type": "stream",
          "name": "stdout",
          "text": [
            "Epoch 0, Optimized Weights are [-0.1], and bias is 0.9\n",
            "Epoch 1, Optimized Weights are [-0.2], and bias is 0.8\n",
            "Epoch 2, Optimized Weights are [-0.3], and bias is 0.7000000000000001\n",
            "Epoch 3, Optimized Weights are [-0.4], and bias is 0.6000000000000001\n",
            "Epoch 4, Optimized Weights are [-0.5], and bias is 0.5000000000000001\n",
            "Epoch 5, Optimized Weights are [-0.6], and bias is 0.40000000000000013\n",
            "Epoch 6, Optimized Weights are [-0.6], and bias is 0.40000000000000013\n",
            "Epoch 7, Optimized Weights are [-0.6], and bias is 0.40000000000000013\n",
            "Epoch 8, Optimized Weights are [-0.6], and bias is 0.40000000000000013\n",
            "Epoch 9, Optimized Weights are [-0.6], and bias is 0.40000000000000013\n",
            "Epoch 10, Optimized Weights are [-0.6], and bias is 0.40000000000000013\n",
            "Epoch 11, Optimized Weights are [-0.6], and bias is 0.40000000000000013\n",
            "Epoch 12, Optimized Weights are [-0.6], and bias is 0.40000000000000013\n",
            "Epoch 13, Optimized Weights are [-0.6], and bias is 0.40000000000000013\n",
            "Epoch 14, Optimized Weights are [-0.6], and bias is 0.40000000000000013\n",
            "Epoch 15, Optimized Weights are [-0.6], and bias is 0.40000000000000013\n",
            "Epoch 16, Optimized Weights are [-0.6], and bias is 0.40000000000000013\n",
            "Epoch 17, Optimized Weights are [-0.6], and bias is 0.40000000000000013\n",
            "Epoch 18, Optimized Weights are [-0.6], and bias is 0.40000000000000013\n",
            "Epoch 19, Optimized Weights are [-0.6], and bias is 0.40000000000000013\n",
            "Optimized Weights are [-0.6] and bias is 0.40000000000000013\n",
            "Input: [0], Predictions: 1\n",
            "Input: [1], Predictions: 0\n"
          ]
        }
      ]
    },
    {
      "cell_type": "markdown",
      "source": [],
      "metadata": {
        "id": "HJBWbf9avgcO"
      }
    }
  ]
}